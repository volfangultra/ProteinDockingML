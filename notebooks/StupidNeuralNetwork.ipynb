{
 "cells": [
  {
   "cell_type": "code",
   "execution_count": 229,
   "metadata": {
    "collapsed": true,
    "ExecuteTime": {
     "end_time": "2023-11-01T23:57:46.896120900Z",
     "start_time": "2023-11-01T23:57:46.874867Z"
    }
   },
   "outputs": [],
   "source": [
    "import os.path\n",
    "import pandas as pd\n",
    "from Bio.PDB import PDBParser\n",
    "import numpy as np\n",
    "import matplotlib.pyplot as plt\n",
    "from keras.models import Model\n",
    "from keras.layers import Input, Reshape, Dense"
   ]
  },
  {
   "cell_type": "code",
   "execution_count": 230,
   "outputs": [
    {
     "data": {
      "text/plain": "       Complex Cat. PDB ID 1                     Protein 1    PDB ID 2  \\\n0    1AHW_AB:C   AA  1FGN_LH                       Fab 5g9      1TFH_A   \n1    1DQJ_AB:C   AA  1DQQ_CD                   Fab Hyhel63       3LZT_   \n2    1E6J_HL:P   AA  1E6O_HL                           Fab       1A43_   \n3    1JPS_HL:T   AA  1JPT_HL                     Fab D3H44      1TFH_B   \n4    1MLC_AB:E   AA  1MLB_AB                       Fab44.1       3LZT_   \n..         ...  ...      ...                           ...         ...   \n95   3A4S_A:D    EI   1A3S_A  SUMO-conjugating enzyme UBC9      3A4R_A   \n96   3K75_D:B    ER   1BPB_A           DNA polymerase beta      3K77_A   \n97  3LVK_AC:B    ER  3LVM_AB     Cysteine desulfurase IscS  1DCJ_A(12)   \n98   3PC8_A:C    ER   3PC6_A      DNA repair protein XRCC1      3PC7_A   \n99    3SGQ_E:I   EI   2QA9_E               Streptogrisin B      2OVO_A   \n\n                                            Protein 2  I-RMSD   ASA  \\\n0                                       Tissue factor    0.69  1899   \n1                                        HEW lysozyme    0.75  1765   \n2                            HIV-1 capsid protein p24    1.05  1245   \n3                                       Tissue factor    0.51  1852   \n4                                        HEW lysozyme    0.60  1392   \n..                                                ...     ...   ...   \n95  NFATC2-interacting protein SLD2 ubiquitin-like...    0.72  1116   \n96                   Reduced XRCC1, N-terminal domain    0.64  1195   \n97                             Sulfurtransferase tusA    0.81  1609   \n98                   DNA ligase III-alpha BRCT domain    0.50  1240   \n99                   Ovomucoid inhibitor third domain    0.39  1211   \n\n    BM version introduced  \n0                     2.0  \n1                     2.0  \n2                     2.0  \n3                     2.0  \n4                     2.0  \n..                    ...  \n95                    5.0  \n96                    5.0  \n97                    5.0  \n98                    5.0  \n99                    4.0  \n\n[100 rows x 9 columns]",
      "text/html": "<div>\n<style scoped>\n    .dataframe tbody tr th:only-of-type {\n        vertical-align: middle;\n    }\n\n    .dataframe tbody tr th {\n        vertical-align: top;\n    }\n\n    .dataframe thead th {\n        text-align: right;\n    }\n</style>\n<table border=\"1\" class=\"dataframe\">\n  <thead>\n    <tr style=\"text-align: right;\">\n      <th></th>\n      <th>Complex</th>\n      <th>Cat.</th>\n      <th>PDB ID 1</th>\n      <th>Protein 1</th>\n      <th>PDB ID 2</th>\n      <th>Protein 2</th>\n      <th>I-RMSD</th>\n      <th>ASA</th>\n      <th>BM version introduced</th>\n    </tr>\n  </thead>\n  <tbody>\n    <tr>\n      <th>0</th>\n      <td>1AHW_AB:C</td>\n      <td>AA</td>\n      <td>1FGN_LH</td>\n      <td>Fab 5g9</td>\n      <td>1TFH_A</td>\n      <td>Tissue factor</td>\n      <td>0.69</td>\n      <td>1899</td>\n      <td>2.0</td>\n    </tr>\n    <tr>\n      <th>1</th>\n      <td>1DQJ_AB:C</td>\n      <td>AA</td>\n      <td>1DQQ_CD</td>\n      <td>Fab Hyhel63</td>\n      <td>3LZT_</td>\n      <td>HEW lysozyme</td>\n      <td>0.75</td>\n      <td>1765</td>\n      <td>2.0</td>\n    </tr>\n    <tr>\n      <th>2</th>\n      <td>1E6J_HL:P</td>\n      <td>AA</td>\n      <td>1E6O_HL</td>\n      <td>Fab</td>\n      <td>1A43_</td>\n      <td>HIV-1 capsid protein p24</td>\n      <td>1.05</td>\n      <td>1245</td>\n      <td>2.0</td>\n    </tr>\n    <tr>\n      <th>3</th>\n      <td>1JPS_HL:T</td>\n      <td>AA</td>\n      <td>1JPT_HL</td>\n      <td>Fab D3H44</td>\n      <td>1TFH_B</td>\n      <td>Tissue factor</td>\n      <td>0.51</td>\n      <td>1852</td>\n      <td>2.0</td>\n    </tr>\n    <tr>\n      <th>4</th>\n      <td>1MLC_AB:E</td>\n      <td>AA</td>\n      <td>1MLB_AB</td>\n      <td>Fab44.1</td>\n      <td>3LZT_</td>\n      <td>HEW lysozyme</td>\n      <td>0.60</td>\n      <td>1392</td>\n      <td>2.0</td>\n    </tr>\n    <tr>\n      <th>...</th>\n      <td>...</td>\n      <td>...</td>\n      <td>...</td>\n      <td>...</td>\n      <td>...</td>\n      <td>...</td>\n      <td>...</td>\n      <td>...</td>\n      <td>...</td>\n    </tr>\n    <tr>\n      <th>95</th>\n      <td>3A4S_A:D</td>\n      <td>EI</td>\n      <td>1A3S_A</td>\n      <td>SUMO-conjugating enzyme UBC9</td>\n      <td>3A4R_A</td>\n      <td>NFATC2-interacting protein SLD2 ubiquitin-like...</td>\n      <td>0.72</td>\n      <td>1116</td>\n      <td>5.0</td>\n    </tr>\n    <tr>\n      <th>96</th>\n      <td>3K75_D:B</td>\n      <td>ER</td>\n      <td>1BPB_A</td>\n      <td>DNA polymerase beta</td>\n      <td>3K77_A</td>\n      <td>Reduced XRCC1, N-terminal domain</td>\n      <td>0.64</td>\n      <td>1195</td>\n      <td>5.0</td>\n    </tr>\n    <tr>\n      <th>97</th>\n      <td>3LVK_AC:B</td>\n      <td>ER</td>\n      <td>3LVM_AB</td>\n      <td>Cysteine desulfurase IscS</td>\n      <td>1DCJ_A(12)</td>\n      <td>Sulfurtransferase tusA</td>\n      <td>0.81</td>\n      <td>1609</td>\n      <td>5.0</td>\n    </tr>\n    <tr>\n      <th>98</th>\n      <td>3PC8_A:C</td>\n      <td>ER</td>\n      <td>3PC6_A</td>\n      <td>DNA repair protein XRCC1</td>\n      <td>3PC7_A</td>\n      <td>DNA ligase III-alpha BRCT domain</td>\n      <td>0.50</td>\n      <td>1240</td>\n      <td>5.0</td>\n    </tr>\n    <tr>\n      <th>99</th>\n      <td>3SGQ_E:I</td>\n      <td>EI</td>\n      <td>2QA9_E</td>\n      <td>Streptogrisin B</td>\n      <td>2OVO_A</td>\n      <td>Ovomucoid inhibitor third domain</td>\n      <td>0.39</td>\n      <td>1211</td>\n      <td>4.0</td>\n    </tr>\n  </tbody>\n</table>\n<p>100 rows × 9 columns</p>\n</div>"
     },
     "execution_count": 230,
     "metadata": {},
     "output_type": "execute_result"
    }
   ],
   "source": [
    "data = pd.read_excel(r\"C:\\Users\\eminm\\OneDrive\\Desktop\\Protein Docking\\ProteinDockingKod\\data\\easy_proteins.xlsx\")\n",
    "data.head(100)"
   ],
   "metadata": {
    "collapsed": false,
    "ExecuteTime": {
     "end_time": "2023-11-01T23:57:47.227446900Z",
     "start_time": "2023-11-01T23:57:47.159075300Z"
    }
   }
  },
  {
   "cell_type": "code",
   "execution_count": 231,
   "outputs": [
    {
     "data": {
      "text/plain": "       Complex PDB ID 1    PDB ID 2  I-RMSD\n0    1AHW_AB:C  1FGN_LH      1TFH_A    0.69\n1    1DQJ_AB:C  1DQQ_CD       3LZT_    0.75\n2    1E6J_HL:P  1E6O_HL       1A43_    1.05\n3    1JPS_HL:T  1JPT_HL      1TFH_B    0.51\n4    1MLC_AB:E  1MLB_AB       3LZT_    0.60\n..         ...      ...         ...     ...\n95   3A4S_A:D    1A3S_A      3A4R_A    0.72\n96   3K75_D:B    1BPB_A      3K77_A    0.64\n97  3LVK_AC:B   3LVM_AB  1DCJ_A(12)    0.81\n98   3PC8_A:C    3PC6_A      3PC7_A    0.50\n99    3SGQ_E:I   2QA9_E      2OVO_A    0.39\n\n[100 rows x 4 columns]",
      "text/html": "<div>\n<style scoped>\n    .dataframe tbody tr th:only-of-type {\n        vertical-align: middle;\n    }\n\n    .dataframe tbody tr th {\n        vertical-align: top;\n    }\n\n    .dataframe thead th {\n        text-align: right;\n    }\n</style>\n<table border=\"1\" class=\"dataframe\">\n  <thead>\n    <tr style=\"text-align: right;\">\n      <th></th>\n      <th>Complex</th>\n      <th>PDB ID 1</th>\n      <th>PDB ID 2</th>\n      <th>I-RMSD</th>\n    </tr>\n  </thead>\n  <tbody>\n    <tr>\n      <th>0</th>\n      <td>1AHW_AB:C</td>\n      <td>1FGN_LH</td>\n      <td>1TFH_A</td>\n      <td>0.69</td>\n    </tr>\n    <tr>\n      <th>1</th>\n      <td>1DQJ_AB:C</td>\n      <td>1DQQ_CD</td>\n      <td>3LZT_</td>\n      <td>0.75</td>\n    </tr>\n    <tr>\n      <th>2</th>\n      <td>1E6J_HL:P</td>\n      <td>1E6O_HL</td>\n      <td>1A43_</td>\n      <td>1.05</td>\n    </tr>\n    <tr>\n      <th>3</th>\n      <td>1JPS_HL:T</td>\n      <td>1JPT_HL</td>\n      <td>1TFH_B</td>\n      <td>0.51</td>\n    </tr>\n    <tr>\n      <th>4</th>\n      <td>1MLC_AB:E</td>\n      <td>1MLB_AB</td>\n      <td>3LZT_</td>\n      <td>0.60</td>\n    </tr>\n    <tr>\n      <th>...</th>\n      <td>...</td>\n      <td>...</td>\n      <td>...</td>\n      <td>...</td>\n    </tr>\n    <tr>\n      <th>95</th>\n      <td>3A4S_A:D</td>\n      <td>1A3S_A</td>\n      <td>3A4R_A</td>\n      <td>0.72</td>\n    </tr>\n    <tr>\n      <th>96</th>\n      <td>3K75_D:B</td>\n      <td>1BPB_A</td>\n      <td>3K77_A</td>\n      <td>0.64</td>\n    </tr>\n    <tr>\n      <th>97</th>\n      <td>3LVK_AC:B</td>\n      <td>3LVM_AB</td>\n      <td>1DCJ_A(12)</td>\n      <td>0.81</td>\n    </tr>\n    <tr>\n      <th>98</th>\n      <td>3PC8_A:C</td>\n      <td>3PC6_A</td>\n      <td>3PC7_A</td>\n      <td>0.50</td>\n    </tr>\n    <tr>\n      <th>99</th>\n      <td>3SGQ_E:I</td>\n      <td>2QA9_E</td>\n      <td>2OVO_A</td>\n      <td>0.39</td>\n    </tr>\n  </tbody>\n</table>\n<p>100 rows × 4 columns</p>\n</div>"
     },
     "execution_count": 231,
     "metadata": {},
     "output_type": "execute_result"
    }
   ],
   "source": [
    "data = data.drop([\"Cat.\", \"Protein 1\", \"Protein 2\", \"ASA\", \"BM version introduced\"], axis=1)\n",
    "data.head(100)"
   ],
   "metadata": {
    "collapsed": false,
    "ExecuteTime": {
     "end_time": "2023-11-01T23:57:47.427756200Z",
     "start_time": "2023-11-01T23:57:47.411868300Z"
    }
   }
  },
  {
   "cell_type": "code",
   "execution_count": 232,
   "outputs": [
    {
     "data": {
      "text/plain": "   Complex PDB ID 1 PDB ID 2  I-RMSD\n0     1AHW     1FGN     1TFH    0.69\n1     1DQJ     1DQQ     3LZT    0.75\n2     1E6J     1E6O     1A43    1.05\n3     1JPS     1JPT     1TFH    0.51\n4     1MLC     1MLB     3LZT    0.60\n..     ...      ...      ...     ...\n95    3A4S     1A3S     3A4R    0.72\n96    3K75     1BPB     3K77    0.64\n97    3LVK     3LVM     1DCJ    0.81\n98    3PC8     3PC6     3PC7    0.50\n99    3SGQ     2QA9     2OVO    0.39\n\n[100 rows x 4 columns]",
      "text/html": "<div>\n<style scoped>\n    .dataframe tbody tr th:only-of-type {\n        vertical-align: middle;\n    }\n\n    .dataframe tbody tr th {\n        vertical-align: top;\n    }\n\n    .dataframe thead th {\n        text-align: right;\n    }\n</style>\n<table border=\"1\" class=\"dataframe\">\n  <thead>\n    <tr style=\"text-align: right;\">\n      <th></th>\n      <th>Complex</th>\n      <th>PDB ID 1</th>\n      <th>PDB ID 2</th>\n      <th>I-RMSD</th>\n    </tr>\n  </thead>\n  <tbody>\n    <tr>\n      <th>0</th>\n      <td>1AHW</td>\n      <td>1FGN</td>\n      <td>1TFH</td>\n      <td>0.69</td>\n    </tr>\n    <tr>\n      <th>1</th>\n      <td>1DQJ</td>\n      <td>1DQQ</td>\n      <td>3LZT</td>\n      <td>0.75</td>\n    </tr>\n    <tr>\n      <th>2</th>\n      <td>1E6J</td>\n      <td>1E6O</td>\n      <td>1A43</td>\n      <td>1.05</td>\n    </tr>\n    <tr>\n      <th>3</th>\n      <td>1JPS</td>\n      <td>1JPT</td>\n      <td>1TFH</td>\n      <td>0.51</td>\n    </tr>\n    <tr>\n      <th>4</th>\n      <td>1MLC</td>\n      <td>1MLB</td>\n      <td>3LZT</td>\n      <td>0.60</td>\n    </tr>\n    <tr>\n      <th>...</th>\n      <td>...</td>\n      <td>...</td>\n      <td>...</td>\n      <td>...</td>\n    </tr>\n    <tr>\n      <th>95</th>\n      <td>3A4S</td>\n      <td>1A3S</td>\n      <td>3A4R</td>\n      <td>0.72</td>\n    </tr>\n    <tr>\n      <th>96</th>\n      <td>3K75</td>\n      <td>1BPB</td>\n      <td>3K77</td>\n      <td>0.64</td>\n    </tr>\n    <tr>\n      <th>97</th>\n      <td>3LVK</td>\n      <td>3LVM</td>\n      <td>1DCJ</td>\n      <td>0.81</td>\n    </tr>\n    <tr>\n      <th>98</th>\n      <td>3PC8</td>\n      <td>3PC6</td>\n      <td>3PC7</td>\n      <td>0.50</td>\n    </tr>\n    <tr>\n      <th>99</th>\n      <td>3SGQ</td>\n      <td>2QA9</td>\n      <td>2OVO</td>\n      <td>0.39</td>\n    </tr>\n  </tbody>\n</table>\n<p>100 rows × 4 columns</p>\n</div>"
     },
     "execution_count": 232,
     "metadata": {},
     "output_type": "execute_result"
    }
   ],
   "source": [
    "data['Complex'] = data['Complex'].str.split('_').str.get(0)\n",
    "data['PDB ID 1'] = data['PDB ID 1'].str.split('_').str.get(0)\n",
    "data['PDB ID 2'] = data['PDB ID 2'].str.split('_').str.get(0)\n",
    "data.head(100)"
   ],
   "metadata": {
    "collapsed": false,
    "ExecuteTime": {
     "end_time": "2023-11-01T23:57:47.694496700Z",
     "start_time": "2023-11-01T23:57:47.682342500Z"
    }
   }
  },
  {
   "cell_type": "code",
   "execution_count": 233,
   "outputs": [
    {
     "name": "stderr",
     "output_type": "stream",
     "text": [
     ]
    }
   ],
   "source": [
    "ligands = []\n",
    "receptors = []\n",
    "complexs = []\n",
    "rmsds = []\n",
    "\n",
    "atom_to_index = {atom: i for i, atom in enumerate(imena_atoma)}\n",
    "\n",
    "# One-hot encoding function\n",
    "def one_hot_encode(atom_name):\n",
    "    encoding = [0] * len(imena_atoma)\n",
    "    if atom_name in atom_to_index:\n",
    "        encoding[atom_to_index[atom_name]] = 1\n",
    "    return encoding\n",
    "\n",
    "for protein, rmsd in zip(data[\"Complex\"], data[\"I-RMSD\"]):\n",
    "    if os.path.exists(f'../data/pdbs/{protein}_l_u.pdb') and os.path.exists(f'../data/pdbs/{protein}_r_u.pdb') and os.path.exists(f'../data/pdbs/{protein}_r_b.pdb'):\n",
    "        structure = parser.get_structure('ligand', f'../data/pdbs/{protein}_l_u.pdb')\n",
    "        ligand = []\n",
    "        for model in structure:\n",
    "            for chain in model:\n",
    "                for residue in chain:\n",
    "                    for atom in residue:\n",
    "                        ime_atoma = atom.get_name()\n",
    "                        x, y, z = atom.get_coord()\n",
    "                        ligand.append(one_hot_encode(ime_atoma) + [x,y,z])\n",
    "        ligands.append(ligand)\n",
    "\n",
    "        structure = parser.get_structure('receptor', f'../data/pdbs/{protein}_r_u.pdb')\n",
    "        receptor = []\n",
    "        for model in structure:\n",
    "            for chain in model:\n",
    "                for residue in chain:\n",
    "                    for atom in residue:\n",
    "                        ime_atoma = atom.get_name()\n",
    "                        x, y, z = atom.get_coord()\n",
    "                        receptor.append(one_hot_encode(ime_atoma) + [x,y,z])\n",
    "        receptors.append(receptor)\n",
    "\n",
    "        structure = parser.get_structure('protein', f'../data/pdbs/{protein}_r_b.pdb')\n",
    "        complex = []\n",
    "        for model in structure:\n",
    "            for chain in model:\n",
    "                for residue in chain:\n",
    "                    for atom in residue:\n",
    "                        ime_atoma = atom.get_name()\n",
    "                        x, y, z = atom.get_coord()\n",
    "                        complex.append(one_hot_encode(ime_atoma) + [x,y,z])\n",
    "        complexs.append(complex)\n",
    "        rmsds.append(rmsd)"
   ],
   "metadata": {
    "collapsed": false,
    "ExecuteTime": {
     "end_time": "2023-11-01T23:57:56.536684400Z",
     "start_time": "2023-11-01T23:57:51.546973Z"
    }
   }
  },
  {
   "cell_type": "code",
   "execution_count": 236,
   "outputs": [
    {
     "name": "stdout",
     "output_type": "stream",
     "text": [
      "44 44 44 44\n"
     ]
    }
   ],
   "source": [
    "print(len(complexs), len(ligands), len(receptors), len(rmsds))"
   ],
   "metadata": {
    "collapsed": false,
    "ExecuteTime": {
     "end_time": "2023-11-01T23:57:56.552494500Z",
     "start_time": "2023-11-01T23:57:56.539684800Z"
    }
   }
  },
  {
   "cell_type": "code",
   "execution_count": 237,
   "outputs": [
    {
     "name": "stdout",
     "output_type": "stream",
     "text": [
      "11907\n"
     ]
    }
   ],
   "source": [
    "najveci = 0\n",
    "for l, r, c in zip(complexs, ligands, receptors):\n",
    "    najveci = max(len(l), max(len(r), max(len(c), najveci)))\n",
    "print(najveci)"
   ],
   "metadata": {
    "collapsed": false,
    "ExecuteTime": {
     "end_time": "2023-11-01T23:57:56.598570300Z",
     "start_time": "2023-11-01T23:57:56.553505600Z"
    }
   }
  },
  {
   "cell_type": "code",
   "execution_count": 238,
   "outputs": [],
   "source": [
    "padded_complexes = [complex + [127 * [0]] * (najveci - len(complex)) for complex in complexs]\n",
    "padded_ligands = [ligand + [127 * [0]] * (najveci - len(ligand)) for ligand in ligands]\n",
    "padded_receptors = [receptor + [127 * [0]] * (najveci - len(receptor)) for receptor in receptors]\n",
    "complexes_array = np.array(padded_complexes)\n",
    "ligands_array = np.array(padded_ligands)\n",
    "receptors_array=np.array(padded_receptors)\n",
    "rmsds_array = np.array(rmsds)"
   ],
   "metadata": {
    "collapsed": false,
    "ExecuteTime": {
     "end_time": "2023-11-01T23:58:04.665233100Z",
     "start_time": "2023-11-01T23:57:56.570432200Z"
    }
   }
  },
  {
   "cell_type": "code",
   "execution_count": 239,
   "outputs": [
    {
     "name": "stdout",
     "output_type": "stream",
     "text": [
      "(44, 11907, 127) (44, 11907, 127) (44, 11907, 127) (44,)\n"
     ]
    }
   ],
   "source": [
    "print(receptors_array.shape, ligands_array.shape, complexes_array.shape, rmsds_array.shape)"
   ],
   "metadata": {
    "collapsed": false,
    "ExecuteTime": {
     "end_time": "2023-11-01T23:58:04.680519900Z",
     "start_time": "2023-11-01T23:58:04.666233100Z"
    }
   }
  },
  {
   "cell_type": "code",
   "execution_count": 240,
   "outputs": [],
   "source": [
    "X_train = [complexes_array[:40] + ligands_array[:40] + receptors_array[:40]]\n",
    "Y_train = rmsds_array[:40]\n",
    "X_test = [complexes_array[41:] + ligands_array[41:] + receptors_array[41:]]\n",
    "Y_test = rmsds_array[41:]\n"
   ],
   "metadata": {
    "collapsed": false,
    "ExecuteTime": {
     "end_time": "2023-11-01T23:58:04.896901Z",
     "start_time": "2023-11-01T23:58:04.680519900Z"
    }
   }
  },
  {
   "cell_type": "code",
   "execution_count": 241,
   "outputs": [
    {
     "name": "stdout",
     "output_type": "stream",
     "text": [
      "[0.69 0.75 1.05 0.51 0.6  1.13 1.02 0.31 1.07 1.21 0.8  1.33 1.13 0.39\n",
      " 0.73 1.48 0.48 0.5  1.22 0.84 0.93 0.81 0.34 1.08 0.61 0.49 0.78 0.73\n",
      " 0.84 1.14 0.29 0.63 0.9  0.57 0.57 0.8  1.25 0.96 0.95 0.72]\n",
      "Epoch 1/50\n",
      "5/5 [==============================] - 1s 103ms/step - loss: 1.0185 - val_loss: 1.1291\n",
      "Epoch 2/50\n",
      "5/5 [==============================] - 0s 77ms/step - loss: 0.8987 - val_loss: 0.9929\n",
      "Epoch 3/50\n",
      "5/5 [==============================] - 0s 78ms/step - loss: 0.8246 - val_loss: 0.8914\n",
      "Epoch 4/50\n",
      "5/5 [==============================] - 0s 77ms/step - loss: 0.7722 - val_loss: 0.8129\n",
      "Epoch 5/50\n",
      "5/5 [==============================] - 0s 77ms/step - loss: 0.7403 - val_loss: 0.7479\n",
      "Epoch 6/50\n",
      "5/5 [==============================] - 0s 76ms/step - loss: 0.7122 - val_loss: 0.6944\n",
      "Epoch 7/50\n",
      "5/5 [==============================] - 0s 77ms/step - loss: 0.6909 - val_loss: 0.6439\n",
      "Epoch 8/50\n",
      "5/5 [==============================] - 0s 77ms/step - loss: 0.6648 - val_loss: 0.6049\n",
      "Epoch 9/50\n",
      "5/5 [==============================] - 0s 77ms/step - loss: 0.6419 - val_loss: 0.5744\n",
      "Epoch 10/50\n",
      "5/5 [==============================] - 0s 76ms/step - loss: 0.6220 - val_loss: 0.5443\n",
      "Epoch 11/50\n",
      "5/5 [==============================] - 0s 76ms/step - loss: 0.6035 - val_loss: 0.5236\n",
      "Epoch 12/50\n",
      "5/5 [==============================] - 0s 77ms/step - loss: 0.5875 - val_loss: 0.5099\n",
      "Epoch 13/50\n",
      "5/5 [==============================] - 0s 78ms/step - loss: 0.5717 - val_loss: 0.4990\n",
      "Epoch 14/50\n",
      "5/5 [==============================] - 0s 79ms/step - loss: 0.5569 - val_loss: 0.4872\n",
      "Epoch 15/50\n",
      "5/5 [==============================] - 0s 77ms/step - loss: 0.5426 - val_loss: 0.4723\n",
      "Epoch 16/50\n",
      "5/5 [==============================] - 0s 76ms/step - loss: 0.5272 - val_loss: 0.4543\n",
      "Epoch 17/50\n",
      "5/5 [==============================] - 0s 77ms/step - loss: 0.5099 - val_loss: 0.4371\n",
      "Epoch 18/50\n",
      "5/5 [==============================] - 0s 76ms/step - loss: 0.4938 - val_loss: 0.4189\n",
      "Epoch 19/50\n",
      "5/5 [==============================] - 0s 76ms/step - loss: 0.4741 - val_loss: 0.3942\n",
      "Epoch 20/50\n",
      "5/5 [==============================] - 0s 76ms/step - loss: 0.4466 - val_loss: 0.3678\n",
      "Epoch 21/50\n",
      "5/5 [==============================] - 0s 76ms/step - loss: 0.4201 - val_loss: 0.3416\n",
      "Epoch 22/50\n",
      "5/5 [==============================] - 0s 77ms/step - loss: 0.3918 - val_loss: 0.3154\n",
      "Epoch 23/50\n",
      "5/5 [==============================] - 0s 77ms/step - loss: 0.3655 - val_loss: 0.2899\n",
      "Epoch 24/50\n",
      "5/5 [==============================] - 0s 76ms/step - loss: 0.3375 - val_loss: 0.2591\n",
      "Epoch 25/50\n",
      "5/5 [==============================] - 0s 76ms/step - loss: 0.2999 - val_loss: 0.2174\n",
      "Epoch 26/50\n",
      "5/5 [==============================] - 0s 76ms/step - loss: 0.2560 - val_loss: 0.1778\n",
      "Epoch 27/50\n",
      "5/5 [==============================] - 0s 77ms/step - loss: 0.2186 - val_loss: 0.1412\n",
      "Epoch 28/50\n",
      "5/5 [==============================] - 0s 77ms/step - loss: 0.1781 - val_loss: 0.1128\n",
      "Epoch 29/50\n",
      "5/5 [==============================] - 0s 77ms/step - loss: 0.1483 - val_loss: 0.0912\n",
      "Epoch 30/50\n",
      "5/5 [==============================] - 0s 76ms/step - loss: 0.1286 - val_loss: 0.0754\n",
      "Epoch 31/50\n",
      "5/5 [==============================] - 0s 77ms/step - loss: 0.1107 - val_loss: 0.0658\n",
      "Epoch 32/50\n",
      "5/5 [==============================] - 0s 76ms/step - loss: 0.1018 - val_loss: 0.0607\n",
      "Epoch 33/50\n",
      "5/5 [==============================] - 0s 76ms/step - loss: 0.0967 - val_loss: 0.0586\n",
      "Epoch 34/50\n",
      "5/5 [==============================] - 0s 77ms/step - loss: 0.0931 - val_loss: 0.0581\n",
      "Epoch 35/50\n",
      "5/5 [==============================] - 0s 77ms/step - loss: 0.0921 - val_loss: 0.0581\n",
      "Epoch 36/50\n",
      "5/5 [==============================] - 0s 76ms/step - loss: 0.0924 - val_loss: 0.0586\n",
      "Epoch 37/50\n",
      "5/5 [==============================] - 0s 76ms/step - loss: 0.0915 - val_loss: 0.0589\n",
      "Epoch 38/50\n",
      "5/5 [==============================] - 0s 76ms/step - loss: 0.0919 - val_loss: 0.0595\n",
      "Epoch 39/50\n",
      "5/5 [==============================] - 0s 77ms/step - loss: 0.0919 - val_loss: 0.0594\n",
      "Epoch 40/50\n",
      "5/5 [==============================] - 0s 76ms/step - loss: 0.0921 - val_loss: 0.0599\n",
      "Epoch 41/50\n",
      "5/5 [==============================] - 0s 76ms/step - loss: 0.0919 - val_loss: 0.0593\n",
      "Epoch 42/50\n",
      "5/5 [==============================] - 0s 76ms/step - loss: 0.0918 - val_loss: 0.0588\n",
      "Epoch 43/50\n",
      "5/5 [==============================] - 0s 76ms/step - loss: 0.0922 - val_loss: 0.0584\n",
      "Epoch 44/50\n",
      "5/5 [==============================] - 0s 76ms/step - loss: 0.0918 - val_loss: 0.0583\n",
      "Epoch 45/50\n",
      "5/5 [==============================] - 0s 77ms/step - loss: 0.0919 - val_loss: 0.0585\n",
      "Epoch 46/50\n",
      "5/5 [==============================] - 0s 75ms/step - loss: 0.0917 - val_loss: 0.0583\n",
      "Epoch 47/50\n",
      "5/5 [==============================] - 0s 76ms/step - loss: 0.0920 - val_loss: 0.0582\n",
      "Epoch 48/50\n",
      "5/5 [==============================] - 0s 75ms/step - loss: 0.0919 - val_loss: 0.0584\n",
      "Epoch 49/50\n",
      "5/5 [==============================] - 0s 76ms/step - loss: 0.0918 - val_loss: 0.0583\n",
      "Epoch 50/50\n",
      "5/5 [==============================] - 0s 76ms/step - loss: 0.0916 - val_loss: 0.0582\n"
     ]
    }
   ],
   "source": [
    "input_layer = Input(shape=(X_train[0].shape[1], X_train[0].shape[2]))  # Input shape to match your data\n",
    "reshaped_input = Reshape((X_train[0].shape[1], X_train[0].shape[2], 1))(input_layer)  # Reshape if needed\n",
    "print(Y_train)\n",
    "dense1 = Dense(32, activation='relu')(reshaped_input)\n",
    "dense2 = Dense(8, activation='relu')(dense1)\n",
    "\n",
    "output_layer = Dense(1)(dense2)\n",
    "\n",
    "model = Model(inputs=input_layer, outputs=output_layer)\n",
    "\n",
    "model.compile(optimizer='adam', loss='mean_squared_error')\n",
    "history = model.fit(complexes_array, rmsds_array, epochs=50, batch_size=8, validation_split=0.2)"
   ],
   "metadata": {
    "collapsed": false,
    "ExecuteTime": {
     "end_time": "2023-11-01T23:58:24.785723300Z",
     "start_time": "2023-11-01T23:58:04.901063600Z"
    }
   }
  },
  {
   "cell_type": "code",
   "execution_count": 242,
   "outputs": [
    {
     "data": {
      "text/plain": "<Figure size 1200x400 with 1 Axes>",
      "image/png": "[encoded data removed]"
     },
     "metadata": {},
     "output_type": "display_data"
    }
   ],
   "source": [
    "plt.figure(figsize=(12, 4))\n",
    "plt.subplot(1, 2, 1)\n",
    "plt.plot(history.history['loss'], label='Training Loss')\n",
    "plt.plot(history.history['val_loss'], label='Validation Loss')\n",
    "plt.title('Training and Validation Loss')\n",
    "plt.xlabel('Epoch')\n",
    "plt.ylabel('Loss')\n",
    "plt.legend()\n",
    "\n",
    "plt.tight_layout()\n",
    "plt.show()"
   ],
   "metadata": {
    "collapsed": false,
    "ExecuteTime": {
     "end_time": "2023-11-01T23:58:24.880146300Z",
     "start_time": "2023-11-01T23:58:24.788722500Z"
    }
   }
  },
  {
   "cell_type": "code",
   "execution_count": null,
   "outputs": [],
   "source": [],
   "metadata": {
    "collapsed": false
   }
  }
 ],
 "metadata": {
  "kernelspec": {
   "display_name": "Python 3",
   "language": "python",
   "name": "python3"
  },
  "language_info": {
   "codemirror_mode": {
    "name": "ipython",
    "version": 2
   },
   "file_extension": ".py",
   "mimetype": "text/x-python",
   "name": "python",
   "nbconvert_exporter": "python",
   "pygments_lexer": "ipython2",
   "version": "2.7.6"
  }
 },
 "nbformat": 4,
 "nbformat_minor": 0
}
